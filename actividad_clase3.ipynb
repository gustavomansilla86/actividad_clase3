{
 "cells": [
  {
   "cell_type": "markdown",
   "metadata": {},
   "source": [
    "# Actividad Clase 3\n",
    "\n",
    "## Ejercicios de Datos Complejos:"
   ]
  },
  {
   "cell_type": "code",
   "execution_count": 3,
   "metadata": {},
   "outputs": [
    {
     "name": "stdout",
     "output_type": "stream",
     "text": [
      "La segunda ciudad es Rio_Grande\n"
     ]
    }
   ],
   "source": [
    "#ciudad =[\"Salta\", \"Rio_Grande\", \"Ushuaia\", \"Calafate\"]\n",
    "#segunda_cuidad = ciudad[1]\n",
    "#print(\"la segunda ciudad es\", segunda_cuidad)\n",
    "\n",
    "ciudad = [\"Salta\", \"Rio_Grande\", \"Ushuaia\", \"Calafate\"]\n",
    "segunda_ciudad = ciudad[1]\n",
    "print (\"La segunda ciudad es\", segunda_ciudad)\n",
    "\n"
   ]
  },
  {
   "cell_type": "code",
   "execution_count": 2,
   "metadata": {},
   "outputs": [
    {
     "name": "stdout",
     "output_type": "stream",
     "text": [
      "Gustavo\n",
      "secretaria\n",
      "40000\n"
     ]
    }
   ],
   "source": [
    "empleados = {\n",
    "    \"empleado1\": {\"nombre\": \"Gustavo\",\"cargo\": \"operario\",\"salario\": 50000},\n",
    "    \"empleado2\": {\"nombre\": \"Luz\",\"cargo\": \"secretaria\",\"salario\": 40000},\n",
    "    \"empleado3\": {\"nombre\": \"Camilo\",\"cargo\": \"chofer\",\"salario\": 35000\n",
    "    }\n",
    "};\n",
    "\n",
    "print(empleados[\"empleado1\"][\"nombre\"])\n",
    "print(empleados[\"empleado2\"][\"cargo\"])\n",
    "print(empleados[\"empleado2\"][\"salario\"])\n"
   ]
  }
 ],
 "metadata": {
  "kernelspec": {
   "display_name": "Python 3",
   "language": "python",
   "name": "python3"
  },
  "language_info": {
   "codemirror_mode": {
    "name": "ipython",
    "version": 3
   },
   "file_extension": ".py",
   "mimetype": "text/x-python",
   "name": "python",
   "nbconvert_exporter": "python",
   "pygments_lexer": "ipython3",
   "version": "3.11.9"
  }
 },
 "nbformat": 4,
 "nbformat_minor": 2
}
