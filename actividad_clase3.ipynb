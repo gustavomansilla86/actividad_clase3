{
 "cells": [
  {
   "cell_type": "markdown",
   "metadata": {},
   "source": [
    "# clase 3 \n",
    "## actividad \n",
    "### datos simples "
   ]
  },
  {
   "cell_type": "code",
   "execution_count": 14,
   "metadata": {},
   "outputs": [
    {
     "name": "stdout",
     "output_type": "stream",
     "text": [
      "alberto\n",
      "operario\n",
      "30000\n"
     ]
    }
   ],
   "source": [
    "ciudad = [\"salta\",\"tucuman\",\"corrientes\"]\n",
    "\n",
    "empleados = { \n",
    "             \"empleado1\": {\"nombre\": \"alberto\", \"cargo\": \"operario\", \"salario\": 30000},\n",
    "             \"empleado2\": {\"nombre\":\"gustavo\",\"cargo\":\"supervisor\",\"salario\":40000}}\n",
    "print(empleados[\"empleado1\"][\"nombre\"])\n",
    "print(empleados[\"empleado1\"][\"cargo\"])\n",
    "print(empleados[\"empleado1\"][\"salario\"])"
   ]
  },
  {
   "cell_type": "code",
   "execution_count": 7,
   "metadata": {},
   "outputs": [
    {
     "name": "stdout",
     "output_type": "stream",
     "text": [
      "[1, 2, 8, 10]\n",
      "[1, 2, 8, 10, 1]\n",
      "[1, 2, 8, 10, 1, 6, 7]\n",
      "[0, 1, 2, 8, 10, 1, 6, 7]\n",
      "[0, 1, 1, 2, 6, 7, 8, 10]\n"
     ]
    }
   ],
   "source": [
    "numero =[1,2,8,10]\n",
    "print(numero)\n",
    "\n",
    "numero.append(1)\n",
    "print(numero)\n",
    "\n",
    "numero.extend([6,7])\n",
    "print(numero)\n",
    "\n",
    "numero.insert(0,0)\n",
    "print(numero)\n",
    "\n",
    "numero.sort()\n",
    "print(numero)\n"
   ]
  },
  {
   "cell_type": "markdown",
   "metadata": {},
   "source": []
  }
 ],
 "metadata": {
  "kernelspec": {
   "display_name": "Python 3",
   "language": "python",
   "name": "python3"
  },
  "language_info": {
   "codemirror_mode": {
    "name": "ipython",
    "version": 3
   },
   "file_extension": ".py",
   "mimetype": "text/x-python",
   "name": "python",
   "nbconvert_exporter": "python",
   "pygments_lexer": "ipython3",
   "version": "3.11.9"
  }
 },
 "nbformat": 4,
 "nbformat_minor": 2
}
