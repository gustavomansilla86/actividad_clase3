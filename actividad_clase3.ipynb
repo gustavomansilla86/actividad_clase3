{
 "cells": [
  {
   "cell_type": "markdown",
   "metadata": {},
   "source": [
    "# Actividad Clase 3\n",
    "\n",
    "## Ejercicios de Datos Complejos:"
   ]
  },
  {
   "cell_type": "code",
   "execution_count": 3,
   "metadata": {},
   "outputs": [
    {
     "name": "stdout",
     "output_type": "stream",
     "text": [
      "La segunda ciudad es Rio_Grande\n"
     ]
    }
   ],
   "source": [
    "#ciudad =[\"Salta\", \"Rio_Grande\", \"Ushuaia\", \"Calafate\"]\n",
    "#segunda_cuidad = ciudad[1]\n",
    "#print(\"la segunda ciudad es\", segunda_cuidad)\n",
    "\n",
    "ciudad = [\"Salta\", \"Rio_Grande\", \"Ushuaia\", \"Calafate\"]\n",
    "segunda_ciudad = ciudad[1]\n",
    "print (\"La segunda ciudad es\", segunda_ciudad)\n",
    "\n"
   ]
  },
  {
   "cell_type": "code",
   "execution_count": 2,
   "metadata": {},
   "outputs": [
    {
     "name": "stdout",
     "output_type": "stream",
     "text": [
      "Gustavo\n",
      "secretaria\n",
      "40000\n"
     ]
    }
   ],
   "source": [
    "empleados = {\n",
    "    \"empleado1\": {\"nombre\": \"Gustavo\",\"cargo\": \"operario\",\"salario\": 50000},\n",
    "    \"empleado2\": {\"nombre\": \"Luz\",\"cargo\": \"secretaria\",\"salario\": 40000},\n",
    "    \"empleado3\": {\"nombre\": \"Camilo\",\"cargo\": \"chofer\",\"salario\": 35000\n",
    "    }\n",
    "};\n",
    "\n",
    "print(empleados[\"empleado1\"][\"nombre\"])\n",
    "print(empleados[\"empleado2\"][\"cargo\"])\n",
    "print(empleados[\"empleado2\"][\"salario\"])\n"
   ]
  },
  {
   "cell_type": "markdown",
   "metadata": {},
   "source": [
    "### Manipulación de listas y Métodos:"
   ]
  },
  {
   "cell_type": "code",
   "execution_count": 6,
   "metadata": {},
   "outputs": [
    {
     "name": "stdout",
     "output_type": "stream",
     "text": [
      "[1, 2, 3, 4, 5, 6, 7]\n",
      "[1, 2, 3, 4, 5, 6, 7, 1]\n"
     ]
    }
   ],
   "source": [
    "Numeros = [1,2,3,4,5,6,7]\n",
    "print (Numeros)\n",
    "agregar = Numeros.append(1)\n",
    "print (Numeros)"
   ]
  },
  {
   "cell_type": "code",
   "execution_count": 7,
   "metadata": {},
   "outputs": [
    {
     "name": "stdout",
     "output_type": "stream",
     "text": [
      "[1, 2, 3, 4, 5, 6, 7, 1, 1, 2, 3, 4, 5]\n"
     ]
    }
   ],
   "source": [
    "\n",
    "agregar_numeros = [1,2,3,4,5]\n",
    "Numeros.extend(agregar_numeros)\n",
    "print (Numeros)"
   ]
  },
  {
   "cell_type": "code",
   "execution_count": 8,
   "metadata": {},
   "outputs": [
    {
     "name": "stdout",
     "output_type": "stream",
     "text": [
      "[1, 2, 3, 4, 5, 6, 7, 1, 1, 2, 3, 4, 5]\n",
      "[1, 2, 6, 3, 4, 5, 6, 7, 1, 1, 2, 3, 4, 5]\n"
     ]
    }
   ],
   "source": [
    "\n",
    "print (Numeros)\n",
    "Numeros.insert(2,6)\n",
    "print (Numeros)"
   ]
  },
  {
   "cell_type": "code",
   "execution_count": 10,
   "metadata": {},
   "outputs": [
    {
     "name": "stdout",
     "output_type": "stream",
     "text": [
      "[1, 1, 1, 2, 2, 3, 3, 4, 4, 5, 5, 6, 6, 7]\n"
     ]
    }
   ],
   "source": [
    "Numeros.sort()\n",
    "print(Numeros)"
   ]
  },
  {
   "cell_type": "markdown",
   "metadata": {},
   "source": [
    "Crea un diccionario con información de productos (nombre del producto, precio, cantidad en stock)."
   ]
  },
  {
   "cell_type": "code",
   "execution_count": 2,
   "metadata": {},
   "outputs": [
    {
     "name": "stdout",
     "output_type": "stream",
     "text": [
      "azucar\n"
     ]
    }
   ],
   "source": [
    "productos = {\n",
    "    \"producto1\":{\"nombre1\":\"cafe\",\"precio\":4500,\"stock\":100},\n",
    "    \"producto2\":{\"nombre2\":\"azucar\",\"precio\":1000,\"stock\":170},\n",
    "    \"producto3\":{\"nombre3\":\"aceite\",\"precio\":15000,\"stock\":17}\n",
    "};\n",
    "\n",
    "print (productos[\"producto2\"][\"nombre2\"])"
   ]
  }
 ],
 "metadata": {
  "kernelspec": {
   "display_name": "Python 3",
   "language": "python",
   "name": "python3"
  },
  "language_info": {
   "codemirror_mode": {
    "name": "ipython",
    "version": 3
   },
   "file_extension": ".py",
   "mimetype": "text/x-python",
   "name": "python",
   "nbconvert_exporter": "python",
   "pygments_lexer": "ipython3",
   "version": "3.11.9"
  }
 },
 "nbformat": 4,
 "nbformat_minor": 2
}
