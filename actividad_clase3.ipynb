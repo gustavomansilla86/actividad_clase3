{
 "cells": [
  {
   "cell_type": "markdown",
   "metadata": {},
   "source": [
    "# clase 3 \n",
    "## actividad \n",
    "## datos simples "
   ]
  },
  {
   "cell_type": "code",
   "execution_count": 1,
   "metadata": {},
   "outputs": [
    {
     "name": "stdout",
     "output_type": "stream",
     "text": [
      "tucuman\n",
      "alberto\n",
      "operario\n",
      "30000\n"
     ]
    }
   ],
   "source": [
    "ciudad = [\"salta\",\"tucuman\",\"corrientes\"]\n",
    "elegida=ciudad[1]\n",
    "print(elegida)\n",
    "empleados = { \n",
    "             \"empleado1\": {\"nombre\": \"alberto\", \"cargo\": \"operario\", \"salario\": 30000},\n",
    "             \"empleado2\": {\"nombre\":\"gustavo\",\"cargo\":\"supervisor\",\"salario\":40000}}\n",
    "print(empleados[\"empleado1\"][\"nombre\"])\n",
    "print(empleados[\"empleado1\"][\"cargo\"])\n",
    "print(empleados[\"empleado1\"][\"salario\"])"
   ]
  },
  {
   "cell_type": "code",
   "execution_count": 7,
   "metadata": {},
   "outputs": [
    {
     "name": "stdout",
     "output_type": "stream",
     "text": [
      "[1, 2, 8, 10]\n",
      "[1, 2, 8, 10, 1]\n",
      "[1, 2, 8, 10, 1, 6, 7]\n",
      "[0, 1, 2, 8, 10, 1, 6, 7]\n",
      "[0, 1, 1, 2, 6, 7, 8, 10]\n"
     ]
    }
   ],
   "source": [
    "numero =[1,2,8,10]\n",
    "print(numero)\n",
    "\n",
    "numero.append(1)\n",
    "print(numero)\n",
    "\n",
    "numero.extend([6,7])\n",
    "print(numero)\n",
    "\n",
    "numero.insert(0,0)\n",
    "print(numero)\n",
    "\n",
    "numero.sort()\n",
    "print(numero)\n"
   ]
  },
  {
   "cell_type": "markdown",
   "metadata": {},
   "source": [
    "## Manipulación de Diccionarios y Métodos:"
   ]
  },
  {
   "cell_type": "code",
   "execution_count": 2,
   "metadata": {},
   "outputs": [
    {
     "name": "stdout",
     "output_type": "stream",
     "text": [
      "claves del diccionaro  dict_keys(['producto1', 'producto2', 'producto3'])\n",
      "lista de precios  [1560, 8500, 2390]\n",
      "lista de precios  [70, 100, 55]\n",
      "tupla con valores y claves  dict_items([('producto1', {'nombre': 'jabon', 'precio': 1560, 'cantidad': 70}), ('producto2', {'nombre': 'aceite', 'precio': 8500, 'cantidad': 100}), ('producto3', {'nombre': 'arroz', 'precio': 2390, 'cantidad': 55})])\n",
      "precio del produccto  1560\n"
     ]
    }
   ],
   "source": [
    "productos = {\n",
    "    \"producto1\":{\"nombre\":\"jabon\",\"precio\":1560,\"cantidad\":70},\n",
    "    \"producto2\":{\"nombre\":\"aceite\",\"precio\":8500,\"cantidad\":100},\n",
    "    \"producto3\":{\"nombre\":\"arroz\",\"precio\":2390,\"cantidad\":55},\n",
    "    }\n",
    "productos_keys = productos.keys()\n",
    "print(\"claves del diccionaro \",productos_keys)\n",
    "\n",
    "precios = [producto[\"precio\"]\n",
    "        for producto in productos.values()]\n",
    "print(\"lista de precios \", precios)\n",
    "\n",
    "cantidades = [producto[\"cantidad\"]\n",
    "        for producto in productos.values()]\n",
    "print(\"lista de precios \", cantidades)\n",
    "\n",
    "tupla_dic = productos.items()\n",
    "print(\"tupla con valores y claves \" ,tupla_dic)\n",
    "\n",
    "nombre_producto = \"producto1\"\n",
    "precio_del_producto = productos.get(nombre_producto, {}).get(\"precio\")\n",
    "print(\"precio del produccto \",precio_del_producto)"
   ]
  },
  {
   "cell_type": "code",
   "execution_count": 25,
   "metadata": {},
   "outputs": [
    {
     "name": "stdout",
     "output_type": "stream",
     "text": [
      "lista de libros  [{'nombre': 'padre rico padre pobre', 'autor': 'Robert Kiyosaki', 'año': 1997}, {'nombre': 'El cuadrante del flujo de dinero', 'autor': 'Robert Kiyosaki', 'año': 1998}, {'nombre': 'otras vidas otros maestros', 'autor': 'Brian Weiss', 'año': 1988}]\n",
      "material de gustavo antes de modificar\n",
      "['matematicas', 'base de datos', 'ingles']\n",
      "modificado\n",
      "['programacion', 'base de datos', 'ingles']\n",
      "modificado\n",
      "lista de libros  [{'nombre': 'padre rico padre pobre', 'autor': 'Robert Kiyosaki', 'año': 1997}, {'nombre': 'mensajes sabios', 'autor': 'brian weiss', 'año': 2000}, {'nombre': 'otras vidas otros maestros', 'autor': 'Brian Weiss', 'año': 1988}]\n"
     ]
    }
   ],
   "source": [
    "libros = [\n",
    "    {\"nombre\":\"padre rico padre pobre\",\"autor\":\"Robert Kiyosaki\",\"año\":1997},\n",
    "    {\"nombre\":\"El cuadrante del flujo de dinero\",\"autor\":\"Robert Kiyosaki\",\"año\":1998},\n",
    "    {\"nombre\":\"otras vidas otros maestros\",\"autor\":\"Brian Weiss\",\"año\":1988},\n",
    "]\n",
    "print(\"lista de libros \",libros)\n",
    "\n",
    "estudiantes = {\n",
    "    \"gustavo\":[\"matematicas\",\"base de datos\",\"ingles\"],\n",
    "    \"camilo\":[\"matematicas\",\"proyecto\",\"programacion\"]\n",
    "}\n",
    "print(\"material de gustavo antes de modificar\")\n",
    "print(estudiantes[\"gustavo\"])\n",
    "\n",
    "estudiantes[\"gustavo\"][0]=\"programacion\"\n",
    "print(\"modificado\")\n",
    "print(estudiantes[\"gustavo\"])\n",
    "\n",
    "print(\"modificado\")\n",
    "\n",
    "libros[1][\"nombre\"]=\"mensajes sabios\"\n",
    "libros[1][\"año\"]=2000\n",
    "libros[1][\"autor\"]=\"brian weiss\"\n",
    "print(\"lista de libros \",libros)\n"
   ]
  }
 ],
 "metadata": {
  "kernelspec": {
   "display_name": "Python 3",
   "language": "python",
   "name": "python3"
  },
  "language_info": {
   "codemirror_mode": {
    "name": "ipython",
    "version": 3
   },
   "file_extension": ".py",
   "mimetype": "text/x-python",
   "name": "python",
   "nbconvert_exporter": "python",
   "pygments_lexer": "ipython3",
   "version": "3.11.9"
  }
 },
 "nbformat": 4,
 "nbformat_minor": 2
}
